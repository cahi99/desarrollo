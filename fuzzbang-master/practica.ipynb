{
 "cells": [
  {
   "cell_type": "markdown",
   "metadata": {},
   "source": [
    "**generar cadena**"
   ]
  },
  {
   "cell_type": "code",
   "execution_count": 1,
   "metadata": {},
   "outputs": [],
   "source": [
    "from fuzzbang.alphanumericfuzzer import AlphaNumericFuzzer "
   ]
  },
  {
   "cell_type": "code",
   "execution_count": 3,
   "metadata": {},
   "outputs": [],
   "source": [
    "## numero de muestras\n",
    "n = 20 "
   ]
  },
  {
   "cell_type": "code",
   "execution_count": 4,
   "metadata": {},
   "outputs": [],
   "source": [
    "## definicion de frontera\n",
    "min_len = 0\n",
    "max_len =10"
   ]
  },
  {
   "cell_type": "code",
   "execution_count": 5,
   "metadata": {},
   "outputs": [],
   "source": [
    "### Creación del generador de cadena\n",
    "genera = AlphaNumericFuzzer(min_len,max_len)"
   ]
  },
  {
   "cell_type": "code",
   "execution_count": 49,
   "metadata": {},
   "outputs": [
    {
     "name": "stdout",
     "output_type": "stream",
     "text": [
      "['Up4O', 'B3Si', 'mUug', 'PZ1Q', 'avq', 'NY1', 'Vqx22cvKBk', 'o3Ykp21p', '6eZYHv', '4Np', 'UEZCBAzr', 'sh5xyYQ', 'ITC4k', '', 'Tiwib', '', 'T', '', 'CGb', 'dG']\n"
     ]
    }
   ],
   "source": [
    "var = []\n",
    "for i in range(n):\n",
    "    var.append(genera.generate())\n",
    "    \n",
    "print(var)\n"
   ]
  },
  {
   "cell_type": "code",
   "execution_count": 27,
   "metadata": {},
   "outputs": [
    {
     "name": "stdout",
     "output_type": "stream",
     "text": [
      "MqpmJVx\n"
     ]
    }
   ],
   "source": []
  }
 ],
 "metadata": {
  "kernelspec": {
   "display_name": "Python 3",
   "language": "python",
   "name": "python3"
  },
  "language_info": {
   "codemirror_mode": {
    "name": "ipython",
    "version": 3
   },
   "file_extension": ".py",
   "mimetype": "text/x-python",
   "name": "python",
   "nbconvert_exporter": "python",
   "pygments_lexer": "ipython3",
   "version": "3.7.3"
  }
 },
 "nbformat": 4,
 "nbformat_minor": 2
}
